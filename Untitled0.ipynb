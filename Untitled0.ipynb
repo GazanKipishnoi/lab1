{
  "nbformat": 4,
  "nbformat_minor": 0,
  "metadata": {
    "colab": {
      "provenance": [],
      "authorship_tag": "ABX9TyNg/lxnV+NqYDkKmtoAdzAl",
      "include_colab_link": true
    },
    "kernelspec": {
      "name": "python3",
      "display_name": "Python 3"
    },
    "language_info": {
      "name": "python"
    }
  },
  "cells": [
    {
      "cell_type": "markdown",
      "metadata": {
        "id": "view-in-github",
        "colab_type": "text"
      },
      "source": [
        "<a href=\"https://colab.research.google.com/github/GazanKipishnoi/lab1/blob/main/Untitled0.ipynb\" target=\"_parent\"><img src=\"https://colab.research.google.com/assets/colab-badge.svg\" alt=\"Open In Colab\"/></a>"
      ]
    },
    {
      "cell_type": "code",
      "execution_count": 1,
      "metadata": {
        "id": "3CkIC_iyjpGo"
      },
      "outputs": [],
      "source": [
        "import pandas as pd\n",
        "from google.colab import drive\n",
        "from sklearn.model_selection import train_test_split\n",
        "from sklearn.pipeline import Pipeline\n",
        "from sklearn.compose import ColumnTransformer\n",
        "from sklearn.preprocessing import StandardScaler, OneHotEncoder\n",
        "from sklearn.impute import SimpleImputer\n",
        "from xgboost import XGBRegressor\n",
        "import joblib"
      ]
    },
    {
      "cell_type": "code",
      "source": [
        "drive.mount('/content/drive/')\n",
        "file_path = '/content/Laptop_price.csv'\n",
        "df = pd.read_csv(file_path)\n",
        "print(df.head(10))"
      ],
      "metadata": {
        "colab": {
          "base_uri": "https://localhost:8080/"
        },
        "id": "DQz4rUDJkz1Y",
        "outputId": "6b6723a8-bd38-4d46-f122-340f3f5321f7"
      },
      "execution_count": 2,
      "outputs": [
        {
          "output_type": "stream",
          "name": "stdout",
          "text": [
            "Mounted at /content/drive/\n",
            "    Brand  Processor_Speed  RAM_Size  Storage_Capacity  Screen_Size    Weight  \\\n",
            "0    Asus         3.830296        16               512    11.185147  2.641094   \n",
            "1    Acer         2.912833         4              1000    11.311372  3.260012   \n",
            "2  Lenovo         3.241627         4               256    11.853023  2.029061   \n",
            "3    Acer         3.806248        16               512    12.280360  4.573865   \n",
            "4    Acer         3.268097        32              1000    14.990877  4.193472   \n",
            "5      HP         1.881348        16               256    11.943958  4.840268   \n",
            "6  Lenovo         2.940721        32               256    11.713246  4.344846   \n",
            "7  Lenovo         3.016788         4               256    15.588315  2.941120   \n",
            "8  Lenovo         2.560327         4               512    15.026332  2.743620   \n",
            "9    Acer         3.341111        32               512    13.611945  4.093149   \n",
            "\n",
            "          Price  \n",
            "0  17395.093065  \n",
            "1  31607.605919  \n",
            "2   9291.023542  \n",
            "3  17436.728334  \n",
            "4  32917.990718  \n",
            "5   9543.719980  \n",
            "6  10390.137319  \n",
            "7   9214.484506  \n",
            "8  16372.175284  \n",
            "9  18501.832733  \n"
          ]
        }
      ]
    },
    {
      "cell_type": "code",
      "source": [
        "X = df.drop(columns=['Price'])\n",
        "y = df['Price']\n",
        "X_train, X_test, y_train, y_test = train_test_split(X, y, test_size=0.2, random_state=42)\n",
        "print(X)\n",
        "print(y)"
      ],
      "metadata": {
        "colab": {
          "base_uri": "https://localhost:8080/"
        },
        "id": "AKqzoRM7lRxp",
        "outputId": "ddae5a2c-0c46-4403-8888-4824ec49f0c4"
      },
      "execution_count": 3,
      "outputs": [
        {
          "output_type": "stream",
          "name": "stdout",
          "text": [
            "      Brand  Processor_Speed  RAM_Size  Storage_Capacity  Screen_Size  \\\n",
            "0      Asus         3.830296        16               512    11.185147   \n",
            "1      Acer         2.912833         4              1000    11.311372   \n",
            "2    Lenovo         3.241627         4               256    11.853023   \n",
            "3      Acer         3.806248        16               512    12.280360   \n",
            "4      Acer         3.268097        32              1000    14.990877   \n",
            "..      ...              ...       ...               ...          ...   \n",
            "995      HP         3.343584         4              1000    12.587095   \n",
            "996    Dell         2.780555         8               256    12.679356   \n",
            "997    Dell         3.200569         4               512    12.666315   \n",
            "998    Asus         1.604182         8               256    11.215581   \n",
            "999  Lenovo         1.711980         4               256    16.561498   \n",
            "\n",
            "       Weight  \n",
            "0    2.641094  \n",
            "1    3.260012  \n",
            "2    2.029061  \n",
            "3    4.573865  \n",
            "4    4.193472  \n",
            "..        ...  \n",
            "995  3.162399  \n",
            "996  3.750265  \n",
            "997  3.392612  \n",
            "998  3.857613  \n",
            "999  3.440883  \n",
            "\n",
            "[1000 rows x 6 columns]\n",
            "0      17395.093065\n",
            "1      31607.605919\n",
            "2       9291.023542\n",
            "3      17436.728334\n",
            "4      32917.990718\n",
            "           ...     \n",
            "995    31593.668017\n",
            "996     9149.521832\n",
            "997    16552.404779\n",
            "998     9407.473459\n",
            "999     8807.696702\n",
            "Name: Price, Length: 1000, dtype: float64\n"
          ]
        }
      ]
    },
    {
      "cell_type": "code",
      "source": [
        "num_features = X.select_dtypes(include=['int64', 'float64']).columns.tolist()\n",
        "cat_features = X.select_dtypes(include=['object']).columns.tolist()\n",
        "num_transformer = Pipeline([\n",
        "    ('imputer', SimpleImputer(strategy='median')),\n",
        "    ('scaler', StandardScaler())\n",
        "])\n",
        "cat_transformer = Pipeline([\n",
        "        ('imputer', SimpleImputer(strategy='most_frequent')),\n",
        "        ('encoder', OneHotEncoder(handle_unknown='ignore'))\n",
        "])\n",
        "preprocessor = ColumnTransformer([\n",
        "    ('num', num_transformer, num_features),\n",
        "    ('cat', cat_transformer, cat_features)\n",
        "])\n",
        "pipeline = Pipeline([\n",
        "    ('preprocessor', preprocessor),\n",
        "   ('model', XGBRegressor(n_estimators=100, learning_rate=0.1, max_depth=5))\n",
        "])\n",
        "pipeline.fit(X_train, y_train)\n",
        "joblib.dump(pipeline, '/content/laptop_price_model.pkl')"
      ],
      "metadata": {
        "colab": {
          "base_uri": "https://localhost:8080/"
        },
        "id": "XDPrt6tAlSfg",
        "outputId": "b925e7f2-e28c-4598-aa2a-f3126938e06a"
      },
      "execution_count": 4,
      "outputs": [
        {
          "output_type": "execute_result",
          "data": {
            "text/plain": [
              "['/content/laptop_price_model.pkl']"
            ]
          },
          "metadata": {},
          "execution_count": 4
        }
      ]
    },
    {
      "cell_type": "code",
      "source": [
        "!git init"
      ],
      "metadata": {
        "colab": {
          "base_uri": "https://localhost:8080/"
        },
        "id": "nDUaPTg6laPk",
        "outputId": "2d98ba47-f902-4ffb-cc3e-f2c7faf7fd5e"
      },
      "execution_count": 6,
      "outputs": [
        {
          "output_type": "stream",
          "name": "stdout",
          "text": [
            "\u001b[33mhint: Using 'master' as the name for the initial branch. This default branch name\u001b[m\n",
            "\u001b[33mhint: is subject to change. To configure the initial branch name to use in all\u001b[m\n",
            "\u001b[33mhint: of your new repositories, which will suppress this warning, call:\u001b[m\n",
            "\u001b[33mhint: \u001b[m\n",
            "\u001b[33mhint: \tgit config --global init.defaultBranch <name>\u001b[m\n",
            "\u001b[33mhint: \u001b[m\n",
            "\u001b[33mhint: Names commonly chosen instead of 'master' are 'main', 'trunk' and\u001b[m\n",
            "\u001b[33mhint: 'development'. The just-created branch can be renamed via this command:\u001b[m\n",
            "\u001b[33mhint: \u001b[m\n",
            "\u001b[33mhint: \tgit branch -m <name>\u001b[m\n",
            "Initialized empty Git repository in /content/.git/\n"
          ]
        }
      ]
    },
    {
      "cell_type": "code",
      "source": [
        "with open(\".gitignore\", \"a\") as f:\n",
        "    f.write(\"*.gdoc\\n*.gsheet\\n*.gform\\n\")\n",
        "!git add .gitignore\n",
        "!git commit -m \"Игнорируем Google-файлы\""
      ],
      "metadata": {
        "colab": {
          "base_uri": "https://localhost:8080/"
        },
        "id": "aL_vHBmem92S",
        "outputId": "a372d739-ea77-4708-a629-887dcbda4af6"
      },
      "execution_count": 23,
      "outputs": [
        {
          "output_type": "stream",
          "name": "stdout",
          "text": [
            "[master f6ee118] Игнорируем Google-файлы\n",
            " 1 file changed, 3 insertions(+)\n"
          ]
        }
      ]
    },
    {
      "cell_type": "code",
      "source": [
        "!git add ."
      ],
      "metadata": {
        "id": "iX8Bwm2Clb29"
      },
      "execution_count": 24,
      "outputs": []
    },
    {
      "cell_type": "code",
      "source": [
        "!git commit -m \"Some message\""
      ],
      "metadata": {
        "colab": {
          "base_uri": "https://localhost:8080/"
        },
        "id": "xzTwoXbPlczH",
        "outputId": "23e71c9a-5edb-4357-a265-2d1c687df196"
      },
      "execution_count": 25,
      "outputs": [
        {
          "output_type": "stream",
          "name": "stdout",
          "text": [
            "[master 830d440] Some message\n",
            " 31 files changed, 53030 insertions(+)\n",
            " create mode 100644 .config/.last_opt_in_prompt.yaml\n",
            " create mode 100644 .config/.last_survey_prompt.yaml\n",
            " create mode 100644 .config/.last_update_check.json\n",
            " create mode 100644 .config/active_config\n",
            " create mode 100644 .config/config_sentinel\n",
            " create mode 100644 .config/configurations/config_default\n",
            " create mode 100644 .config/default_configs.db\n",
            " create mode 100644 .config/gce\n",
            " create mode 100644 .config/hidden_gcloud_config_universe_descriptor_data_cache_configs.db\n",
            " create mode 100644 .config/logs/2025.04.24/18.19.17.922226.log\n",
            " create mode 100644 .config/logs/2025.04.24/18.19.38.522066.log\n",
            " create mode 100644 .config/logs/2025.04.24/18.19.46.929623.log\n",
            " create mode 100644 .config/logs/2025.04.24/18.19.48.089267.log\n",
            " create mode 100644 .config/logs/2025.04.24/18.19.56.709493.log\n",
            " create mode 100644 .config/logs/2025.04.24/18.19.57.353004.log\n",
            " create mode 100644 Laptop_price.csv\n",
            " create mode 100644 drive/MyDrive/Colab Notebooks/Lab1.ipynb\n",
            " create mode 100644 drive/MyDrive/Colab Notebooks/Untitled\n",
            " create mode 100644 drive/MyDrive/Colab Notebooks/Untitled0.ipynb\n",
            " create mode 100644 drive/MyDrive/content/Laptop_price.csv\n",
            " create mode 100644 \"drive/MyDrive/\\320\\223\\321\\200\\321\\203\\320\\277\\320\\277\\320\\260 \\320\\243\\320\\221\\320\\222\\320\\2422301.zip\"\n",
            " create mode 100644 \"drive/MyDrive/\\320\\232\\320\\233\\321\\202\\321\\200\\320\\260\\321\\201\\321\\201\\320\\270\\321\\200\\320\\276\\320\\262\\320\\272\\320\\270.zip\"\n",
            " create mode 100644 \"drive/MyDrive/\\320\\255\\320\\272\\320\\267\\320\\260\\320\\274\\320\\265\\320\\275_\\320\\243\\320\\221\\320\\222\\320\\2422301 (1).zip\"\n",
            " create mode 100644 \"drive/MyDrive/\\320\\255\\320\\272\\320\\267\\320\\260\\320\\274\\320\\265\\320\\275_\\320\\243\\320\\221\\320\\222\\320\\2422301.zip\"\n",
            " create mode 100644 laptop_price_model.pkl\n",
            " create mode 100755 sample_data/README.md\n",
            " create mode 100755 sample_data/anscombe.json\n",
            " create mode 100644 sample_data/california_housing_test.csv\n",
            " create mode 100644 sample_data/california_housing_train.csv\n",
            " create mode 100644 sample_data/mnist_test.csv\n",
            " create mode 100644 sample_data/mnist_train_small.csv\n"
          ]
        }
      ]
    },
    {
      "cell_type": "code",
      "source": [
        "# Add your email to the global config-file\n",
        "!git config --global user.email assaulov.a@gmail.com\n",
        "\n",
        "# Add your email to the global config-file\n",
        "!git config --global user.name GazanKipishnoi"
      ],
      "metadata": {
        "id": "NJ-oPmGNlffb"
      },
      "execution_count": 26,
      "outputs": []
    },
    {
      "cell_type": "code",
      "source": [
        "!git remote add origin https://github.com/GazanKipishnoi/lab1."
      ],
      "metadata": {
        "colab": {
          "base_uri": "https://localhost:8080/"
        },
        "id": "QBZ4daKnllfz",
        "outputId": "3e7fb44a-3c22-4635-f69b-69f3336606d2"
      },
      "execution_count": 29,
      "outputs": [
        {
          "output_type": "stream",
          "name": "stdout",
          "text": [
            "error: remote origin already exists.\n"
          ]
        }
      ]
    },
    {
      "cell_type": "code",
      "source": [
        "!git push -u origin master"
      ],
      "metadata": {
        "colab": {
          "base_uri": "https://localhost:8080/"
        },
        "id": "9E7Iw8J1lpFe",
        "outputId": "4fe66480-4d2a-4a76-ad0a-8befaf554491"
      },
      "execution_count": 30,
      "outputs": [
        {
          "output_type": "stream",
          "name": "stdout",
          "text": [
            "fatal: could not read Username for 'https://github.com': No such device or address\n"
          ]
        }
      ]
    }
  ]
}